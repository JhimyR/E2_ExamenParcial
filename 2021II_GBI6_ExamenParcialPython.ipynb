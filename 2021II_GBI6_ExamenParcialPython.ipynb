{
 "cells": [
  {
   "cell_type": "markdown",
   "metadata": {},
   "source": [
    "<img src=\"https://www.ikiam.edu.ec/img/logo-ikiam-grey.png\" width=300 height=240 />\n",
    "\n",
    "# EXAMEN PARCIAL PYTHON\n",
    "    \n",
    "\n",
    "## GBI6-2021II: BIOINFORMÁTICA\n",
    "\n",
    "**Siquihua Tanguila, Jhimy Roldan** <--- CAMBIE POR LOS QUE CORRESPONDA A SUS DATOS\n",
    "\n",
    "**24-02-2022**"
   ]
  },
  {
   "cell_type": "markdown",
   "metadata": {},
   "source": [
    "<font color='red'>NO AGREGUE NUEVAS CELDAS, UTILICE ÚNICAMENTE LAS QUE ESTÁN CREADAS</font>\n"
   ]
  },
  {
   "cell_type": "markdown",
   "metadata": {},
   "source": [
    "### REQUERIMIENTOS PARA EL EXAMEN\n",
    "Para este examen se requiere dos documentos: \n",
    "\n",
    "1. Archivo ```miningscience.py``` donde tendrá dos funciones:\n",
    "\n",
    "2. Archivo ```2021II_GBI6_ExamenParcialPython``` donde se llamará las funciones y se obtendrá resultados."
   ]
  },
  {
   "cell_type": "markdown",
   "metadata": {},
   "source": [
    "## Ejercicio 1 [2 puntos]\n",
    "Cree el archivo ```miningscience.py``` con las siguientes dos funciones:\n",
    "    \n",
    "i. ```download_pubmed```: para descargar la data de PubMed utilizando el **ENTREZ** de Biopython. El parámetro de entrada para la función es el ```keyword```. \n",
    "    \n",
    "ii. ```mining_pubs```: esta función debe utilizar el módulo **re** y utilizar el párametro ```tipo``` para realizar lo siguiente:\n",
    "        \n",
    "* Si el tipo es \"DP\" recupera el año de publicación del artículo. El retorno es un *dataframe* con el **PMID** y el **DP_year**.\n",
    "      \n",
    "* Si el tipo es \"AU\" recupera el número de autores por **PMID**. El retorno es un *dataframe* con el **PMID** y el **num_auth**. \n",
    "      \n",
    "* Si el tipo es \"AD\" recupera el conteo de autores por país. El retorno es un *dataframe* con el **country** y el **num_auth**. \n",
    "\n",
    "* *Puede utilizar un ```if``` dentro de la función.* \n",
    "\n",
    "* *Cree un docstring para cada función.* \n",
    "\n",
    "Luego de crear las funciones, cargue el módulo ```miningscience``` como ```msc``` e imprima docstring de cada función.\n",
    "\n",
    "\n"
   ]
  },
  {
   "cell_type": "code",
   "execution_count": 15,
   "metadata": {},
   "outputs": [
    {
     "name": "stdout",
     "output_type": "stream",
     "text": [
      "Help on function download_pubmed in module __main__:\n",
      "\n",
      "download_pubmed(keyword)\n",
      "    En esta parte del ejercicio se procedio con la función a la busqueda y la visualización de los resultados \n",
      "    en una lista de ID procedente de la busqueda en pubmed\n",
      "\n",
      "Help on function mining_pubs in module __main__:\n",
      "\n",
      "mining_pubs(tipo)\n",
      "    Dicha funcion tiene como objetivo la entrada de las tres diferentes variables denominadas como \"DP\", \"AU\" y \"AD\" \n",
      "    y como resultado muestra un archivo de dataframe\n",
      "\n"
     ]
    }
   ],
   "source": [
    "def download_pubmed (keyword):\n",
    "    \"\"\"\n",
    "    En esta parte del ejercicio se procedio con la función a la busqueda y la visualización de los resultados \n",
    "    en una lista de ID procedente de la busqueda en pubmed\n",
    "    \"\"\"\n",
    "    from Bio import Entrez\n",
    "    from Bio import SeqIO\n",
    "    from Bio import GenBank\n",
    "    Entrez.email = 'jhimy.siquihua@est.ikiam.edu.ec'\n",
    "    handle = Entrez.esearch(db='pubmed',\n",
    "                        sort='relevance',\n",
    "                        retmax='200',\n",
    "                        retmode='xml',\n",
    "                        term=keyword)\n",
    "    results = Entrez.read(handle)\n",
    "    id_list = results[\"IdList\"]\n",
    "    ids = ','.join(id_list)\n",
    "    Entrez.email = 'jhimy.siquihua@est.ikiam.edu.ec'\n",
    "    handle = Entrez.efetch(db='pubmed',\n",
    "                       retmode='xml',\n",
    "                       id=ids)\n",
    "    lista_id = ids.split(\",\")\n",
    "    return (lista_id) \n",
    "\n",
    "\n",
    "import csv\n",
    "import re\n",
    "import pandas as pd\n",
    "from collections import Counter\n",
    "\n",
    "def mining_pubs(tipo):\n",
    "    \"\"\" \n",
    "    Dicha funcion tiene como objetivo la entrada de las tres diferentes variables denominadas como \"DP\", \"AU\" y \"AD\" \n",
    "    y como resultado muestra un archivo de dataframe\n",
    "    \"\"\"\n",
    "    with open(\"pubmed-EcuadorGen-set.txt\", errors=\"ignore\") as f: \n",
    "        texto = f.read() \n",
    "    if tipo == \"DP\":\n",
    "        PMID = re.findall(\"PMID- (\\d*)\", texto) \n",
    "        year = re.findall(\"DP\\s{2}-\\s(\\d{4})\", texto)\n",
    "        pmid_y = pd.DataFrame()\n",
    "        pmid_y[\"PMID\"] = PMID\n",
    "        pmid_y[\"Año de publicación\"] = year\n",
    "        return (pmid_y)\n",
    "    elif tipo == \"AU\": \n",
    "        PMID = re.findall(\"PMID- (\\d*)\", texto) \n",
    "        autores = texto.split(\"PMID- \")\n",
    "        autores.pop(0)\n",
    "        num_autores = []\n",
    "        for i in range(len(autores)):\n",
    "            numero = re.findall(\"AU -\", autores[i])\n",
    "            n = (len(numero))\n",
    "            num_autores.append(n)\n",
    "        pmid_a = pd.DataFrame()\n",
    "        pmid_a[\"PMID\"] = PMID \n",
    "        pmid_a[\"Cantidad de autores\"] = num_autores\n",
    "        return (pmid_a)\n",
    "    elif tipo == \"AD\": \n",
    "        texto = re.sub(r\" [A-Z]{1}\\.\",\"\", texto)\n",
    "        texto = re.sub(r\"Av\\.\",\"\", texto)\n",
    "        texto = re.sub(r\"Vic\\.\",\"\", texto)\n",
    "        texto = re.sub(r\"Tas\\.\",\"\", texto)\n",
    "        AD = texto.split(\"AD  - \")\n",
    "        n_paises = []\n",
    "        for i in range(len(AD)): \n",
    "            pais = re.findall(\"\\S, ([A-Za-z]*)\\.\", AD[i])\n",
    "            if not pais == []: \n",
    "                if not len(pais) >= 2:  \n",
    "                    if re.findall(\"^[A-Z]\", pais[0]): \n",
    "                        n_paises.append(pais[0])\n",
    "        conteo=Counter(n_paises)\n",
    "        resultado = {}\n",
    "        for clave in conteo:\n",
    "            valor = conteo[clave]\n",
    "            if valor != 1: \n",
    "                resultado[clave] = valor \n",
    "        veces_pais = pd.DataFrame()\n",
    "        veces_pais[\"pais\"] = resultado.keys()\n",
    "        veces_pais[\"cantidad de autores\"] = resultado.values()\n",
    "        return (veces_pais)\n",
    "\n",
    "import miningscience as msc\n",
    "help(download_pubmed)\n",
    "help(mining_pubs)"
   ]
  },
  {
   "cell_type": "markdown",
   "metadata": {},
   "source": [
    "## Ejercicio 2 [1 punto]\n",
    "\n",
    "\n",
    "Utilice la función ```download_pubmed``` para descargar la data con el keyword ```Ecuador genomics``` e imprima lo siguiente: \n",
    "\n",
    "```python\n",
    "'El número de artículos es: xx' # xx corresponde al número de artículos recuperados\n",
    "\n",
    "'El PMID del primer artículo es: xxxxxxxx' # xxxxxxxx corresponde al ID del artículo en PUDMED\n",
    "\n",
    "```"
   ]
  },
  {
   "cell_type": "code",
   "execution_count": 16,
   "metadata": {},
   "outputs": [
    {
     "name": "stdout",
     "output_type": "stream",
     "text": [
      "El numero de articulos es: 193\n",
      "El PMID del primer articulo es: 31822297\n"
     ]
    }
   ],
   "source": [
    "journals = download_pubmed(\"Ecuador Genomics\")\n",
    "\n",
    "print (\"El numero de articulos es:\", len(journals)) \n",
    "\n",
    "print (\"El PMID del primer articulo es:\", journals[0])"
   ]
  },
  {
   "cell_type": "markdown",
   "metadata": {},
   "source": [
    "## Ejercicio 3 [1 punto]\n",
    "\n",
    "Utilice la función ```mining_pubs``` para crear los siguientes dataframes: \n",
    "\n",
    "* pub_year\n",
    "\n",
    "* pub_authors\n",
    "\n",
    "* coutries\n",
    "\n",
    "Muestre los dos primeros y los dos últimos registros de cada dataframe. "
   ]
  },
  {
   "cell_type": "code",
   "execution_count": 17,
   "metadata": {},
   "outputs": [
    {
     "name": "stdout",
     "output_type": "stream",
     "text": [
      "       PMID Año de publicación\n",
      "0  19844075               2010\n",
      "1  31822297               2019\n",
      "         PMID Año de publicación\n",
      "680  34163450               2021\n",
      "681  24920187               2015\n",
      "682  16607004               2006\n",
      "683  26903960               2016\n",
      "684  33807748               2021\n",
      "..        ...                ...\n",
      "823  32917887               2020\n",
      "824  33634602               2021\n",
      "825  28785301               2017\n",
      "826  27429642               2016\n",
      "827  31891233               2020\n",
      "\n",
      "[148 rows x 2 columns]\n",
      "       PMID  Cantidad de autores\n",
      "0  19844075                    2\n",
      "1  31822297                    3\n",
      "         PMID  Cantidad de autores\n",
      "680  34163450                    2\n",
      "681  24920187                    5\n",
      "682  16607004                   10\n",
      "683  26903960                   48\n",
      "684  33807748                   11\n",
      "..        ...                  ...\n",
      "823  32917887                   30\n",
      "824  33634602                  102\n",
      "825  28785301                  173\n",
      "826  27429642                  173\n",
      "827  31891233                  728\n",
      "\n",
      "[148 rows x 2 columns]\n",
      "      pais  cantidad de autores\n",
      "0  Ecuador                 1205\n",
      "1  Belgium                   90\n",
      "Empty DataFrame\n",
      "Columns: [pais, cantidad de autores]\n",
      "Index: []\n"
     ]
    }
   ],
   "source": [
    "import miningscience as msc\n",
    "pub_año = msc.mining_pubs(\"DP\")\n",
    "print (pub_año.iloc[0:2])\n",
    "print (pub_año.iloc[680:])\n",
    "pub_autor = msc.mining_pubs(\"AU\")\n",
    "print (pub_autor.iloc[0:2])\n",
    "print (pub_autor.iloc[680:])\n",
    "countries = msc.mining_pubs(\"AD\")\n",
    "print (countries.iloc[0:2])\n",
    "print (countries.iloc[130:])"
   ]
  },
  {
   "cell_type": "markdown",
   "metadata": {
    "jp-MarkdownHeadingCollapsed": true,
    "tags": []
   },
   "source": [
    "## Ejercicio 4 [2 puntos]\n",
    "\n",
    "Realice la visualización de los datos del ejercicio 3. \n",
    "\n",
    "* ```pubyear```: utilizando el conteo artículos por año, calcule la media y la desviación estandar (asumiendo que la distribución es normal). Realice un gráfico de la distribución normal de sus datos. Coloque el título, leyenda de los ejes \"x\" e \"y\", y la leyenda de la curva (utilice las expresiones matemáticas tipos latex de ser necesario). \n",
    "\n",
    "* ```pub_authors```: realice un boxplot del conteo de autores por artículo. Coloque las leyendas adecuadas para cada eje y el título.  \n",
    "\n",
    "* ```countries```: realice una nube de puntos (adaptación de su tarea), resalte al menos 3 países con flechas. Coloque las leyendas adecuadas para cada eje y el título. \n"
   ]
  },
  {
   "cell_type": "code",
   "execution_count": 32,
   "metadata": {},
   "outputs": [
    {
     "name": "stdout",
     "output_type": "stream",
     "text": [
      "La media es:  2014.87077294686\n",
      "La desviación estandar es:  6.804327940706886\n",
      "         PMID  Cantidad de autores\n",
      "0    19844075                    2\n",
      "1    31822297                    3\n",
      "2    29632024                   33\n",
      "3    32623267                   15\n",
      "4    27577878                   93\n",
      "..        ...                  ...\n",
      "823  32917887                   30\n",
      "824  33634602                  102\n",
      "825  28785301                  173\n",
      "826  27429642                  173\n",
      "827  31891233                  728\n",
      "\n",
      "[828 rows x 2 columns]\n"
     ]
    },
    {
     "ename": "KeyError",
     "evalue": "'Cantidad de autores'",
     "output_type": "error",
     "traceback": [
      "\u001b[1;31m---------------------------------------------------------------------------\u001b[0m",
      "\u001b[1;31mKeyError\u001b[0m                                  Traceback (most recent call last)",
      "\u001b[1;32m~\\AppData\\Local\\Temp/ipykernel_23980/427350663.py\u001b[0m in \u001b[0;36m<module>\u001b[1;34m\u001b[0m\n\u001b[0;32m     18\u001b[0m \u001b[0mplot\u001b[0m\u001b[1;33m.\u001b[0m\u001b[0mylabel\u001b[0m\u001b[1;33m(\u001b[0m\u001b[1;34m\"Frecuencia\"\u001b[0m\u001b[1;33m)\u001b[0m\u001b[1;33m\u001b[0m\u001b[1;33m\u001b[0m\u001b[0m\n\u001b[0;32m     19\u001b[0m \u001b[0mprint\u001b[0m \u001b[1;33m(\u001b[0m\u001b[0mpub_autor\u001b[0m\u001b[1;33m)\u001b[0m\u001b[1;33m\u001b[0m\u001b[1;33m\u001b[0m\u001b[0m\n\u001b[1;32m---> 20\u001b[1;33m \u001b[0mcountries\u001b[0m \u001b[1;33m=\u001b[0m \u001b[0mcountries\u001b[0m\u001b[1;33m.\u001b[0m\u001b[0msort_values\u001b[0m\u001b[1;33m(\u001b[0m\u001b[1;34m\"Cantidad de autores\"\u001b[0m\u001b[1;33m)\u001b[0m\u001b[1;33m\u001b[0m\u001b[1;33m\u001b[0m\u001b[0m\n\u001b[0m\u001b[0;32m     21\u001b[0m \u001b[0mmax_pais\u001b[0m \u001b[1;33m=\u001b[0m \u001b[1;33m(\u001b[0m\u001b[0mcountries\u001b[0m\u001b[1;33m[\u001b[0m\u001b[1;36m104\u001b[0m\u001b[1;33m:\u001b[0m\u001b[1;33m]\u001b[0m\u001b[1;33m)\u001b[0m\u001b[1;33m\u001b[0m\u001b[1;33m\u001b[0m\u001b[0m\n\u001b[0;32m     22\u001b[0m \u001b[1;33m\u001b[0m\u001b[0m\n",
      "\u001b[1;32m~\\anaconda3\\lib\\site-packages\\pandas\\util\\_decorators.py\u001b[0m in \u001b[0;36mwrapper\u001b[1;34m(*args, **kwargs)\u001b[0m\n\u001b[0;32m    309\u001b[0m                     \u001b[0mstacklevel\u001b[0m\u001b[1;33m=\u001b[0m\u001b[0mstacklevel\u001b[0m\u001b[1;33m,\u001b[0m\u001b[1;33m\u001b[0m\u001b[1;33m\u001b[0m\u001b[0m\n\u001b[0;32m    310\u001b[0m                 )\n\u001b[1;32m--> 311\u001b[1;33m             \u001b[1;32mreturn\u001b[0m \u001b[0mfunc\u001b[0m\u001b[1;33m(\u001b[0m\u001b[1;33m*\u001b[0m\u001b[0margs\u001b[0m\u001b[1;33m,\u001b[0m \u001b[1;33m**\u001b[0m\u001b[0mkwargs\u001b[0m\u001b[1;33m)\u001b[0m\u001b[1;33m\u001b[0m\u001b[1;33m\u001b[0m\u001b[0m\n\u001b[0m\u001b[0;32m    312\u001b[0m \u001b[1;33m\u001b[0m\u001b[0m\n\u001b[0;32m    313\u001b[0m         \u001b[1;32mreturn\u001b[0m \u001b[0mwrapper\u001b[0m\u001b[1;33m\u001b[0m\u001b[1;33m\u001b[0m\u001b[0m\n",
      "\u001b[1;32m~\\anaconda3\\lib\\site-packages\\pandas\\core\\frame.py\u001b[0m in \u001b[0;36msort_values\u001b[1;34m(self, by, axis, ascending, inplace, kind, na_position, ignore_index, key)\u001b[0m\n\u001b[0;32m   6305\u001b[0m \u001b[1;33m\u001b[0m\u001b[0m\n\u001b[0;32m   6306\u001b[0m             \u001b[0mby\u001b[0m \u001b[1;33m=\u001b[0m \u001b[0mby\u001b[0m\u001b[1;33m[\u001b[0m\u001b[1;36m0\u001b[0m\u001b[1;33m]\u001b[0m\u001b[1;33m\u001b[0m\u001b[1;33m\u001b[0m\u001b[0m\n\u001b[1;32m-> 6307\u001b[1;33m             \u001b[0mk\u001b[0m \u001b[1;33m=\u001b[0m \u001b[0mself\u001b[0m\u001b[1;33m.\u001b[0m\u001b[0m_get_label_or_level_values\u001b[0m\u001b[1;33m(\u001b[0m\u001b[0mby\u001b[0m\u001b[1;33m,\u001b[0m \u001b[0maxis\u001b[0m\u001b[1;33m=\u001b[0m\u001b[0maxis\u001b[0m\u001b[1;33m)\u001b[0m\u001b[1;33m\u001b[0m\u001b[1;33m\u001b[0m\u001b[0m\n\u001b[0m\u001b[0;32m   6308\u001b[0m \u001b[1;33m\u001b[0m\u001b[0m\n\u001b[0;32m   6309\u001b[0m             \u001b[1;31m# need to rewrap column in Series to apply key function\u001b[0m\u001b[1;33m\u001b[0m\u001b[1;33m\u001b[0m\u001b[1;33m\u001b[0m\u001b[0m\n",
      "\u001b[1;32m~\\anaconda3\\lib\\site-packages\\pandas\\core\\generic.py\u001b[0m in \u001b[0;36m_get_label_or_level_values\u001b[1;34m(self, key, axis)\u001b[0m\n\u001b[0;32m   1846\u001b[0m             \u001b[0mvalues\u001b[0m \u001b[1;33m=\u001b[0m \u001b[0mself\u001b[0m\u001b[1;33m.\u001b[0m\u001b[0maxes\u001b[0m\u001b[1;33m[\u001b[0m\u001b[0maxis\u001b[0m\u001b[1;33m]\u001b[0m\u001b[1;33m.\u001b[0m\u001b[0mget_level_values\u001b[0m\u001b[1;33m(\u001b[0m\u001b[0mkey\u001b[0m\u001b[1;33m)\u001b[0m\u001b[1;33m.\u001b[0m\u001b[0m_values\u001b[0m\u001b[1;33m\u001b[0m\u001b[1;33m\u001b[0m\u001b[0m\n\u001b[0;32m   1847\u001b[0m         \u001b[1;32melse\u001b[0m\u001b[1;33m:\u001b[0m\u001b[1;33m\u001b[0m\u001b[1;33m\u001b[0m\u001b[0m\n\u001b[1;32m-> 1848\u001b[1;33m             \u001b[1;32mraise\u001b[0m \u001b[0mKeyError\u001b[0m\u001b[1;33m(\u001b[0m\u001b[0mkey\u001b[0m\u001b[1;33m)\u001b[0m\u001b[1;33m\u001b[0m\u001b[1;33m\u001b[0m\u001b[0m\n\u001b[0m\u001b[0;32m   1849\u001b[0m \u001b[1;33m\u001b[0m\u001b[0m\n\u001b[0;32m   1850\u001b[0m         \u001b[1;31m# Check for duplicates\u001b[0m\u001b[1;33m\u001b[0m\u001b[1;33m\u001b[0m\u001b[1;33m\u001b[0m\u001b[0m\n",
      "\u001b[1;31mKeyError\u001b[0m: 'Cantidad de autores'"
     ]
    },
    {
     "data": {
      "image/png": "[encoded data removed]",
      "text/plain": [
       "<Figure size 432x288 with 1 Axes>"
      ]
     },
     "metadata": {
      "needs_background": "light"
     },
     "output_type": "display_data"
    }
   ],
   "source": [
    "import pandas as pd \n",
    "import matplotlib.pyplot as plot\n",
    "from collections import Counter\n",
    "#pub_año[\"Año de publicación\"] = pub_año[\"Año de publicación\"].astype(\"int\")\n",
    "mean_py = pub_año[\"Año de publicación\"].mean()\n",
    "sd_py = pub_año[\"Año de publicación\"].std()\n",
    "print (\"La media es: \", mean_py)\n",
    "print (\"La desviación estandar es: \", sd_py)\n",
    "#print (pub_year[\"Año de publicación\"])\n",
    "intervalos = range(min(pub_año[\"Año de publicación\"]), max(pub_año[\"Año de publicación\"]))\n",
    "plot.hist(x=pub_año[\"Año de publicación\"], color = \"purple\")\n",
    "plot.title(\"Articulos publicados en función del año\")\n",
    "plot.xlabel(\"Año\")\n",
    "plot.ylabel(\"Repeticiones\")\n",
    "\n",
    "boxplot = pub_autor[0:827].boxplot(column=[\"Cantidad de autores\"])\n",
    "plot.title(\"Lista de autores por publicación de articulos\")\n",
    "plot.ylabel(\"Frecuencia\")\n",
    "print (pub_autor)\n",
    "countries = countries.sort_values(\"cantidad de autores\")\n",
    "max_pais = (countries[104:])\n",
    "\n",
    "countries_lat = [39.399872, 4.570868, 41.87194, 46.227638, 51.165691, 55.378051, \n",
    "                40.463667, -14.235004, 37.09024, -1.831239  ] \n",
    "                 \n",
    "countries_long = [-8.224454, -74.297333, 12.56738, 2.213749, 10.451526, -3.435973,  \n",
    "                 -3.74922, -51.92528, -95.712891, -78.183406]\n",
    "repeticiones = [143, 173, 177, 221, 253, 316, 499, 501, 784, 1206]\n",
    "\n",
    "import matplotlib.pyplot as plot\n",
    "%matplotlib inline\n",
    "\n",
    "plot.scatter(countries_lat, countries_long, repeticiones)\n",
    "plot.colorbar()\n",
    "ard = dict(arrowstyle=\"->\")\n",
    "plot.annotate(\"Ecuador\", xy = (-1.831239, -78.183406 ), \n",
    "             xytext = (10, 0), arrowprops = ard) \n",
    "plot.annotate(\"Portugal\", xy= (39.399872, -8.224454), \n",
    "            xytext = (40, -20), arrowprops = ard)\n",
    "plot.annotate(\"Colombia\", xy= (4.570868, -74.297333), \n",
    "            xytext = (-10, -20), arrowprops = ard)\n",
    "params = plot.gcf()\n",
    "plSize = params.get_size_inches()\n",
    "params.set_size_inches( (plSize[0] * 3, plSize[1] * 3) )\n",
    "plot.show()"
   ]
  },
  {
   "cell_type": "markdown",
   "metadata": {},
   "source": [
    "## Ejercicio 5 [1 punto]\n",
    "\n",
    "Interprete los resultados del **ejercicio 4**"
   ]
  },
  {
   "cell_type": "markdown",
   "metadata": {},
   "source": [
    "### Escriba la respuesta del ejercicio 5\n"
   ]
  },
  {
   "cell_type": "markdown",
   "metadata": {},
   "source": [
    "## Ejercicio 6 [2 puntos]\n",
    "\n",
    "Para algún gen de interés, realice lo siguiente: \n",
    "\n",
    "1. Una búsqueda en la página del [NCBI nucleotide](https://www.ncbi.nlm.nih.gov/nucleotide/).\n",
    "\n",
    "2. Descargue el ```Accession List``` de su búsqueda.\n",
    "\n",
    "3. Cargue el ```Accession List``` en este notebook y haga una descarga de la data tipo ```genbank``` utilizando los diez primeros IDs de accesión. \n",
    "\n",
    "4. Arme un árbol filogenético para los resultados del paso 3.\n",
    "\n",
    "5. Interprete el árbol del paso 4. "
   ]
  },
  {
   "cell_type": "code",
   "execution_count": 5,
   "metadata": {},
   "outputs": [],
   "source": [
    "# Escriba aquí su código para el ejercicio 6\n",
    "\n"
   ]
  },
  {
   "cell_type": "markdown",
   "metadata": {},
   "source": [
    "**Escriba aquí la interpretación del árbol**"
   ]
  },
  {
   "cell_type": "markdown",
   "metadata": {},
   "source": [
    "## Ejercicio 7 [1 punto]\n",
    "\n",
    "\n",
    "1. Cree en GitHub un repositorio de nombre ```GBI6_ExamenPython```. \n",
    "2. Cree un archivo ```Readme.md``` que debe tener lo siguiente: \n",
    "- Datos personales\n",
    "- Características del computador\n",
    "- Versión de Python/Anaconda y de cada uno de los módulos/paquetes y utilizados\n",
    "- Explicación de la data utilizada\n",
    "\n",
    "3. Cree un directorio de nombre ```data``` donde deben estar guardado la data utilizada \n",
    "4. Realice al menos 1 control de la versión (commits) por cada ejercicio (del 1 al 6), con un mensaje que inicie como: \n",
    "\n",
    "```sh \n",
    "Carlitos Alimaña ha realizado .....  \n",
    "```"
   ]
  }
 ],
 "metadata": {
  "kernelspec": {
   "display_name": "Python 3 (ipykernel)",
   "language": "python",
   "name": "python3"
  },
  "language_info": {
   "codemirror_mode": {
    "name": "ipython",
    "version": 3
   },
   "file_extension": ".py",
   "mimetype": "text/x-python",
   "name": "python",
   "nbconvert_exporter": "python",
   "pygments_lexer": "ipython3",
   "version": "3.8.8"
  },
  "latex_envs": {
   "LaTeX_envs_menu_present": true,
   "autoclose": false,
   "autocomplete": true,
   "bibliofile": "biblio.bib",
   "cite_by": "apalike",
   "current_citInitial": 1,
   "eqLabelWithNumbers": true,
   "eqNumInitial": 1,
   "hotkeys": {
    "equation": "Ctrl-E",
    "itemize": "Ctrl-I"
   },
   "labels_anchors": false,
   "latex_user_defs": false,
   "report_style_numbering": false,
   "user_envs_cfg": false
  },
  "toc": {
   "base_numbering": 1,
   "nav_menu": {},
   "number_sections": true,
   "sideBar": false,
   "skip_h1_title": false,
   "title_cell": "Table of Contents",
   "title_sidebar": "Contents",
   "toc_cell": false,
   "toc_position": {
    "height": "1152.67px",
    "left": "41px",
    "top": "110px",
    "width": "253.458px"
   },
   "toc_section_display": true,
   "toc_window_display": false
  },
  "varInspector": {
   "cols": {
    "lenName": 16,
    "lenType": 16,
    "lenVar": 40
   },
   "kernels_config": {
    "python": {
     "delete_cmd_postfix": "",
     "delete_cmd_prefix": "del ",
     "library": "var_list.py",
     "varRefreshCmd": "print(var_dic_list())"
    },
    "r": {
     "delete_cmd_postfix": ") ",
     "delete_cmd_prefix": "rm(",
     "library": "var_list.r",
     "varRefreshCmd": "cat(var_dic_list()) "
    }
   },
   "types_to_exclude": [
    "module",
    "function",
    "builtin_function_or_method",
    "instance",
    "_Feature"
   ],
   "window_display": false
  }
 },
 "nbformat": 4,
 "nbformat_minor": 4
}
