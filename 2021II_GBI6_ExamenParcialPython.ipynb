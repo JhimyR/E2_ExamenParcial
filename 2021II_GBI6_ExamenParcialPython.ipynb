{
 "cells": [
  {
   "cell_type": "markdown",
   "metadata": {},
   "source": [
    "<img src=\"https://www.ikiam.edu.ec/img/logo-ikiam-grey.png\" width=300 height=240 />\n",
    "\n",
    "# EXAMEN PARCIAL PYTHON\n",
    "    \n",
    "\n",
    "## GBI6-2021II: BIOINFORMÁTICA\n",
    "\n",
    "**Siquihua Tanguila, Jhimy Roldan** <--- CAMBIE POR LOS QUE CORRESPONDA A SUS DATOS\n",
    "\n",
    "**24-02-2022**"
   ]
  },
  {
   "cell_type": "markdown",
   "metadata": {},
   "source": [
    "<font color='red'>NO AGREGUE NUEVAS CELDAS, UTILICE ÚNICAMENTE LAS QUE ESTÁN CREADAS</font>\n"
   ]
  },
  {
   "cell_type": "markdown",
   "metadata": {},
   "source": [
    "### REQUERIMIENTOS PARA EL EXAMEN\n",
    "Para este examen se requiere dos documentos: \n",
    "\n",
    "1. Archivo ```miningscience.py``` donde tendrá dos funciones:\n",
    "\n",
    "2. Archivo ```2021II_GBI6_ExamenParcialPython``` donde se llamará las funciones y se obtendrá resultados."
   ]
  },
  {
   "cell_type": "markdown",
   "metadata": {},
   "source": [
    "## Ejercicio 1 [2 puntos]\n",
    "Cree el archivo ```miningscience.py``` con las siguientes dos funciones:\n",
    "    \n",
    "i. ```download_pubmed```: para descargar la data de PubMed utilizando el **ENTREZ** de Biopython. El parámetro de entrada para la función es el ```keyword```. \n",
    "    \n",
    "ii. ```mining_pubs```: esta función debe utilizar el módulo **re** y utilizar el párametro ```tipo``` para realizar lo siguiente:\n",
    "        \n",
    "* Si el tipo es \"DP\" recupera el año de publicación del artículo. El retorno es un *dataframe* con el **PMID** y el **DP_year**.\n",
    "      \n",
    "* Si el tipo es \"AU\" recupera el número de autores por **PMID**. El retorno es un *dataframe* con el **PMID** y el **num_auth**. \n",
    "      \n",
    "* Si el tipo es \"AD\" recupera el conteo de autores por país. El retorno es un *dataframe* con el **country** y el **num_auth**. \n",
    "\n",
    "* *Puede utilizar un ```if``` dentro de la función.* \n",
    "\n",
    "* *Cree un docstring para cada función.* \n",
    "\n",
    "Luego de crear las funciones, cargue el módulo ```miningscience``` como ```msc``` e imprima docstring de cada función.\n",
    "\n",
    "\n"
   ]
  },
  {
   "cell_type": "code",
   "execution_count": 12,
   "metadata": {},
   "outputs": [
    {
     "name": "stdout",
     "output_type": "stream",
     "text": [
      "Help on function download_pubmed in module __main__:\n",
      "\n",
      "download_pubmed(keyword)\n",
      "    En esta parte del ejercicio se procedio con la función a la busqueda y la visualización de los resultados \n",
      "    en una lista de ID procedente de la busqueda en pubmed\n",
      "\n",
      "Help on function mining_pubs in module __main__:\n",
      "\n",
      "mining_pubs(tipo)\n",
      "    Dicha funcion tiene como objetivo la entrada de las tres diferentes variables denominadas como \"DP\", \"AU\" y \"AD\" \n",
      "    y como resultado muestra un archivo de dataframe\n",
      "\n"
     ]
    }
   ],
   "source": [
    "def download_pubmed (keyword):\n",
    "    \"\"\"\n",
    "    En esta parte del ejercicio se procedio con la función a la busqueda y la visualización de los resultados \n",
    "    en una lista de ID procedente de la busqueda en pubmed\n",
    "    \"\"\"\n",
    "    from Bio import Entrez\n",
    "    from Bio import SeqIO\n",
    "    from Bio import GenBank\n",
    "    Entrez.email = 'jhimy.siquihua@est.ikiam.edu.ec'\n",
    "    handle = Entrez.esearch(db='pubmed',\n",
    "                        sort='relevance',\n",
    "                        retmax='200',\n",
    "                        retmode='xml',\n",
    "                        term=keyword)\n",
    "    results = Entrez.read(handle)\n",
    "    id_list = results[\"IdList\"]\n",
    "    ids = ','.join(id_list)\n",
    "    Entrez.email = 'jhimy.siquihua@est.ikiam.edu.ec'\n",
    "    handle = Entrez.efetch(db='pubmed',\n",
    "                       retmode='xml',\n",
    "                       id=ids)\n",
    "    lista_id = ids.split(\",\")\n",
    "    return (lista_id) \n",
    "\n",
    "\n",
    "import csv\n",
    "import re\n",
    "import pandas as pd\n",
    "from collections import Counter\n",
    "\n",
    "def mining_pubs(tipo):\n",
    "    \"\"\" \n",
    "    Dicha funcion tiene como objetivo la entrada de las tres diferentes variables denominadas como \"DP\", \"AU\" y \"AD\" \n",
    "    y como resultado muestra un archivo de dataframe\n",
    "    \"\"\"\n",
    "    with open(\"pubmed-EcuadorGen-set.txt\", errors=\"ignore\") as f: \n",
    "        texto = f.read() \n",
    "    if tipo == \"DP\":\n",
    "        PMID = re.findall(\"PMID- (\\d*)\", texto) \n",
    "        year = re.findall(\"DP\\s{2}-\\s(\\d{4})\", texto)\n",
    "        pmid_y = pd.DataFrame()\n",
    "        pmid_y[\"PMID\"] = PMID\n",
    "        pmid_y[\"Año de publicación\"] = year\n",
    "        return (pmid_y)\n",
    "    elif tipo == \"AU\": \n",
    "        PMID = re.findall(\"PMID- (\\d*)\", texto) \n",
    "        autores = texto.split(\"PMID- \")\n",
    "        autores.pop(0)\n",
    "        num_autores = []\n",
    "        for i in range(len(autores)):\n",
    "            numero = re.findall(\"AU -\", autores[i])\n",
    "            n = (len(numero))\n",
    "            num_autores.append(n)\n",
    "        pmid_a = pd.DataFrame()\n",
    "        pmid_a[\"PMID\"] = PMID \n",
    "        pmid_a[\"Cantidad de autores\"] = num_autores\n",
    "        return (pmid_a)\n",
    "    elif tipo == \"AD\": \n",
    "        texto = re.sub(r\" [A-Z]{1}\\.\",\"\", texto)\n",
    "        texto = re.sub(r\"Av\\.\",\"\", texto)\n",
    "        texto = re.sub(r\"Vic\\.\",\"\", texto)\n",
    "        texto = re.sub(r\"Tas\\.\",\"\", texto)\n",
    "        AD = texto.split(\"AD  - \")\n",
    "        n_paises = []\n",
    "        for i in range(len(AD)): \n",
    "            pais = re.findall(\"\\S, ([A-Za-z]*)\\.\", AD[i])\n",
    "            if not pais == []: \n",
    "                if not len(pais) >= 2:  \n",
    "                    if re.findall(\"^[A-Z]\", pais[0]): \n",
    "                        n_paises.append(pais[0])\n",
    "        conteo=Counter(n_paises)\n",
    "        resultado = {}\n",
    "        for clave in conteo:\n",
    "            valor = conteo[clave]\n",
    "            if valor != 1: \n",
    "                resultado[clave] = valor \n",
    "        veces_pais = pd.DataFrame()\n",
    "        veces_pais[\"pais\"] = resultado.keys()\n",
    "        veces_pais[\"cantidad de autores\"] = resultado.values()\n",
    "        return (veces_pais)\n",
    "\n",
    "import miningscience as msc\n",
    "help(download_pubmed)\n",
    "help(mining_pubs)"
   ]
  },
  {
   "cell_type": "markdown",
   "metadata": {},
   "source": [
    "## Ejercicio 2 [1 punto]\n",
    "\n",
    "\n",
    "Utilice la función ```download_pubmed``` para descargar la data con el keyword ```Ecuador genomics``` e imprima lo siguiente: \n",
    "\n",
    "```python\n",
    "'El número de artículos es: xx' # xx corresponde al número de artículos recuperados\n",
    "\n",
    "'El PMID del primer artículo es: xxxxxxxx' # xxxxxxxx corresponde al ID del artículo en PUDMED\n",
    "\n",
    "```"
   ]
  },
  {
   "cell_type": "code",
   "execution_count": 13,
   "metadata": {},
   "outputs": [
    {
     "name": "stdout",
     "output_type": "stream",
     "text": [
      "55\n",
      "['\\n', 'PMID- 35120121\\n', 'OWN - NLM\\n', 'STAT- MEDLINE\\n', 'DCOM- 20220224\\n', 'LR  - 20220224\\n', 'IS  - 1553-7404 (Electronic)\\n', 'IS  - 1553-7390 (Linking)\\n', 'VI  - 18\\n', 'IP  - 2\\n']\n"
     ]
    }
   ],
   "source": [
    "# Escriba aquí su código para el ejercicio 2\n",
    "import Bio\n",
    "from Bio.Seq import Seq\n",
    "# cargar biopython o sus módulo, funciones\n",
    "from Bio import Entrez\n",
    "import re\n",
    "\n",
    "# Always tell NCBI who you are (edit the e-mail below!)\n",
    "Entrez.email = \"jhimy.siquihua@est.ikiam.edu.ec\"\n",
    "handle = Entrez.esearch(db=\"pubmed\", \n",
    "                        term=\"Ecuador Genomics[Title/Abstract]\",\n",
    "                        usehistory=\"y\")\n",
    "record = Entrez.read(handle)\n",
    "# generate a Python list with all Pubmed IDs of articles about Dengue Network\n",
    "id_list = record[\"IdList\"]\n",
    "print(record[\"Count\"])\n",
    "webenv = record[\"WebEnv\"]\n",
    "query_key = record[\"QueryKey\"]\n",
    "handle = Entrez.efetch(db=\"pubmed\",\n",
    "                       rettype=\"medline\", \n",
    "                       retmode=\"text\", \n",
    "                       retstart=0,\n",
    "retmax=543, webenv=webenv, query_key=query_key)\n",
    "\n",
    "out_handle = open(\"pubmed-EcuadorGen-set.txt\", \"w\")\n",
    "data = handle.read()\n",
    "handle.close()\n",
    "out_handle.write(data)\n",
    "out_handle.close()\n",
    "\n",
    "\n",
    "# Contribución de los autores\n",
    "with open(\"pubmed-EcuadorGen-set.txt\") as datafile:\n",
    "    a = datafile.readlines(140)\n",
    "    print(a)"
   ]
  },
  {
   "cell_type": "code",
   "execution_count": 14,
   "metadata": {},
   "outputs": [
    {
     "data": {
      "text/plain": [
       "'C:\\\\Users\\\\HP\\\\Documents\\\\E2_ExamenParcial'"
      ]
     },
     "execution_count": 14,
     "metadata": {},
     "output_type": "execute_result"
    }
   ],
   "source": [
    "import os\n",
    "os.getcwd()"
   ]
  },
  {
   "cell_type": "markdown",
   "metadata": {},
   "source": [
    "\n",
    "## Ejercicio 3 [1 punto]\n",
    "\n",
    "Utilice la función ```mining_pubs``` para crear los siguientes dataframes: \n",
    "\n",
    "* pub_year\n",
    "\n",
    "* pub_authors\n",
    "\n",
    "* coutries\n",
    "\n",
    "Muestre los dos primeros y los dos últimos registros de cada dataframe. "
   ]
  },
  {
   "cell_type": "code",
   "execution_count": 15,
   "metadata": {},
   "outputs": [
    {
     "name": "stdout",
     "output_type": "stream",
     "text": [
      "       PMID Año de publicación\n",
      "0  35120121               2022\n",
      "1  35064679               2022\n",
      "Empty DataFrame\n",
      "Columns: [PMID, Año de publicación]\n",
      "Index: []\n",
      "       PMID  Cantidad de autores\n",
      "0  35120121                   14\n",
      "1  35064679                    7\n",
      "Empty DataFrame\n",
      "Columns: [PMID, Cantidad de autores]\n",
      "Index: []\n",
      "      pais  cantidad de autores\n",
      "0  Ecuador                   84\n",
      "1       UK                   23\n",
      "Empty DataFrame\n",
      "Columns: [pais, cantidad de autores]\n",
      "Index: []\n"
     ]
    }
   ],
   "source": [
    "import miningscience as msc\n",
    "pub_año = msc.mining_pubs(\"DP\")\n",
    "print (pub_año.iloc[0:2])\n",
    "print (pub_año.iloc[680:])\n",
    "pub_autor = msc.mining_pubs(\"AU\")\n",
    "print (pub_autor.iloc[0:2])\n",
    "print (pub_autor.iloc[680:])\n",
    "countries = msc.mining_pubs(\"AD\")\n",
    "print (countries.iloc[0:2])\n",
    "print (countries.iloc[130:])"
   ]
  },
  {
   "cell_type": "markdown",
   "metadata": {
    "jp-MarkdownHeadingCollapsed": true,
    "tags": []
   },
   "source": [
    "## Ejercicio 4 [2 puntos]\n",
    "\n",
    "Realice la visualización de los datos del ejercicio 3. \n",
    "\n",
    "* ```pubyear```: utilizando el conteo artículos por año, calcule la media y la desviación estandar (asumiendo que la distribución es normal). Realice un gráfico de la distribución normal de sus datos. Coloque el título, leyenda de los ejes \"x\" e \"y\", y la leyenda de la curva (utilice las expresiones matemáticas tipos latex de ser necesario). \n",
    "\n",
    "* ```pub_authors```: realice un boxplot del conteo de autores por artículo. Coloque las leyendas adecuadas para cada eje y el título.  \n",
    "\n",
    "* ```countries```: realice una nube de puntos (adaptación de su tarea), resalte al menos 3 países con flechas. Coloque las leyendas adecuadas para cada eje y el título. \n"
   ]
  },
  {
   "cell_type": "code",
   "execution_count": 36,
   "metadata": {
    "scrolled": true
   },
   "outputs": [
    {
     "name": "stdout",
     "output_type": "stream",
     "text": [
      "La media es:  2018.9272727272728\n",
      "La desviación estandar es:  2.872955282261117\n"
     ]
    },
    {
     "data": {
      "text/plain": [
       "Text(0, 0.5, 'Repeticiones')"
      ]
     },
     "execution_count": 36,
     "metadata": {},
     "output_type": "execute_result"
    },
    {
     "data": {
      "image/png": "[encoded data removed]",
      "text/plain": [
       "<Figure size 432x288 with 1 Axes>"
      ]
     },
     "metadata": {
      "needs_background": "light"
     },
     "output_type": "display_data"
    }
   ],
   "source": [
    "import pandas as pd \n",
    "import matplotlib.pyplot as plot\n",
    "from collections import Counter\n",
    "\n",
    "#Gráfica de distribucion Normal\n",
    "pub_año[\"Año de publicación\"] = pub_año[\"Año de publicación\"].astype(\"int\")\n",
    "mean_py = pub_año[\"Año de publicación\"].mean()\n",
    "sd_py = pub_año[\"Año de publicación\"].std()\n",
    "print (\"La media es: \", mean_py)\n",
    "print (\"La desviación estandar es: \", sd_py)\n",
    "\n",
    "#Gráfica de diagrama sobre los artículos segun su año\n",
    "#print (pub_year[\"Año de publicación\"])\n",
    "intervalos = range(min(pub_año[\"Año de publicación\"]), max(pub_año[\"Año de publicación\"]))\n",
    "plot.hist(x=pub_año[\"Año de publicación\"], color = \"purple\")\n",
    "plot.title(\"Articulos publicados en función del año\")\n",
    "plot.xlabel(\"Año\")\n",
    "plot.ylabel(\"Repeticiones\")"
   ]
  },
  {
   "cell_type": "code",
   "execution_count": 38,
   "metadata": {},
   "outputs": [
    {
     "name": "stdout",
     "output_type": "stream",
     "text": [
      "        PMID  Cantidad de autores\n",
      "0   35120121                   14\n",
      "1   35064679                    7\n",
      "2   35047841                    9\n",
      "3   35018222                   10\n",
      "4   34962985                    7\n",
      "5   34878103                    7\n",
      "6   34233044                    9\n",
      "7   34229490                   16\n",
      "8   34165082                    4\n",
      "9   34025776                   12\n",
      "10  33846529                   10\n",
      "11  33845910                    7\n",
      "12  33822137                    9\n",
      "13  33747978                   26\n",
      "14  33668747                    3\n",
      "15  33652915                   11\n",
      "16  33574059                   23\n",
      "17  33544737                    6\n",
      "18  33503026                    8\n",
      "19  33294020                   18\n",
      "20  33080926                   15\n",
      "21  32807182                   13\n",
      "22  32719690                    8\n",
      "23  32648524                    7\n",
      "24  32512194                    9\n",
      "25  32377357                   11\n",
      "26  32359157                   23\n",
      "27  31902732                    6\n",
      "28  31822297                    3\n",
      "29  31773318                    9\n",
      "30  31611888                   15\n",
      "31  31254307                   26\n",
      "32  31155034                   19\n",
      "33  31154984                   13\n",
      "34  31067326                   38\n",
      "35  30541084                    1\n",
      "36  30514945                    0\n",
      "37  30459831                    9\n",
      "38  30371872                    2\n",
      "39  30228363                   10\n",
      "40  29714581                    3\n",
      "41  29188006                    7\n",
      "42  29140767                   13\n",
      "43  29048566                   22\n",
      "44  28572335                    9\n",
      "45  28475225                    2\n",
      "46  28442558                    6\n",
      "47  27863902                    8\n",
      "48  27185408                   62\n",
      "49  27038556                   12\n",
      "50  26537019                    2\n",
      "51  24823669                   10\n",
      "52  24342523                    8\n",
      "53  19844075                    2\n",
      "54  19018989                    7\n"
     ]
    },
    {
     "data": {
      "image/png": "[encoded data removed]",
      "text/plain": [
       "<Figure size 432x288 with 1 Axes>"
      ]
     },
     "metadata": {
      "needs_background": "light"
     },
     "output_type": "display_data"
    }
   ],
   "source": [
    "#Gráfica Boxplot (pud_autor)\n",
    "boxplot = pub_autor[0:827].boxplot(column=[\"Cantidad de autores\"])\n",
    "plot.title(\"Lista de autores por publicación de articulos\")\n",
    "plot.ylabel(\"Frecuencia\")\n",
    "print (pub_autor)\n",
    "countries = countries.sort_values(\"cantidad de autores\")\n",
    "max_pais = (countries[104:])"
   ]
  },
  {
   "cell_type": "code",
   "execution_count": 37,
   "metadata": {},
   "outputs": [
    {
     "name": "stdout",
     "output_type": "stream",
     "text": [
      "        PMID  Cantidad de autores\n",
      "0   35120121                   14\n",
      "1   35064679                    7\n",
      "2   35047841                    9\n",
      "3   35018222                   10\n",
      "4   34962985                    7\n",
      "5   34878103                    7\n",
      "6   34233044                    9\n",
      "7   34229490                   16\n",
      "8   34165082                    4\n",
      "9   34025776                   12\n",
      "10  33846529                   10\n",
      "11  33845910                    7\n",
      "12  33822137                    9\n",
      "13  33747978                   26\n",
      "14  33668747                    3\n",
      "15  33652915                   11\n",
      "16  33574059                   23\n",
      "17  33544737                    6\n",
      "18  33503026                    8\n",
      "19  33294020                   18\n",
      "20  33080926                   15\n",
      "21  32807182                   13\n",
      "22  32719690                    8\n",
      "23  32648524                    7\n",
      "24  32512194                    9\n",
      "25  32377357                   11\n",
      "26  32359157                   23\n",
      "27  31902732                    6\n",
      "28  31822297                    3\n",
      "29  31773318                    9\n",
      "30  31611888                   15\n",
      "31  31254307                   26\n",
      "32  31155034                   19\n",
      "33  31154984                   13\n",
      "34  31067326                   38\n",
      "35  30541084                    1\n",
      "36  30514945                    0\n",
      "37  30459831                    9\n",
      "38  30371872                    2\n",
      "39  30228363                   10\n",
      "40  29714581                    3\n",
      "41  29188006                    7\n",
      "42  29140767                   13\n",
      "43  29048566                   22\n",
      "44  28572335                    9\n",
      "45  28475225                    2\n",
      "46  28442558                    6\n",
      "47  27863902                    8\n",
      "48  27185408                   62\n",
      "49  27038556                   12\n",
      "50  26537019                    2\n",
      "51  24823669                   10\n",
      "52  24342523                    8\n",
      "53  19844075                    2\n",
      "54  19018989                    7\n"
     ]
    },
    {
     "data": {
      "image/png": "[encoded data removed]",
      "text/plain": [
       "<Figure size 1296x864 with 2 Axes>"
      ]
     },
     "metadata": {
      "needs_background": "light"
     },
     "output_type": "display_data"
    }
   ],
   "source": [
    "#Gráfica de dispersión de autores de cada paises \n",
    "import matplotlib.pyplot as plot\n",
    "%matplotlib inline\n",
    "\n",
    "countries_lat = [39.399872, 4.570868, 41.87194, 46.227638, 51.165691, 55.378051, \n",
    "                40.463667, -14.235004, 37.09024, -1.831239  ] \n",
    "                 \n",
    "countries_long = [-8.224454, -74.297333, 12.56738, 2.213749, 10.451526, -3.435973,  \n",
    "                 -3.74922, -51.92528, -95.712891, -78.183406]\n",
    "repeticiones = [143, 173, 177, 221, 253, 316, 499, 501, 784, 1206]\n",
    "\n",
    "plot.scatter(countries_lat, countries_long, repeticiones)\n",
    "plot.colorbar()\n",
    "ard = dict(arrowstyle=\"->\")\n",
    "plot.annotate(\"Ecuador\", xy = (-1.831239, -78.183406 ), \n",
    "             xytext = (10,0), arrowprops = ard) \n",
    "plot.annotate(\"Portugal\", xy= (39.399872, -8.224454), \n",
    "            xytext = (40, -20), arrowprops = ard)\n",
    "plot.annotate(\"Colombia\", xy= (4.570868, -74.297333), \n",
    "            xytext = (-10, -20), arrowprops = ard)\n",
    "params = plot.gcf()\n",
    "plSize = params.get_size_inches()\n",
    "params.set_size_inches( (plSize[0] * 3, plSize[1] * 3) )\n",
    "plot.show()"
   ]
  },
  {
   "cell_type": "markdown",
   "metadata": {},
   "source": [
    "## Ejercicio 5 [1 punto]\n",
    "\n",
    "Interprete los resultados del **ejercicio 4**\n",
    "* **Gráfica de distribucion Normal** del ejercicio 4 se visualiza un histograma donde señala que ha existido un crecimiento exponencial del numero de publicaciones de articulos desde 1975 hasta la actualidad referente a Ecuador. \n",
    "\n",
    "\n",
    "* **Gráfica de diagrama sobre los artículos según su año** del ejercicio 4 se obtuvo media y desviación estandar de la cantidad de autores es cerca de 5 entre 10, además existen varios articulos que superan el limite por esta razón obtenemos este resultado, al aplicar la funcion.\n",
    "\n",
    "\n",
    "* **Gráfica Boxplot (pud_autor) y Gráfica de dispersión de autores de cada país**  del ejercicio 4 se puede visualizar los puntos de dispersión del gráfico donde muestra a los 10 país con más cantidad de autores, además de flechas que presenta los primeros tres Ecuador, Portugal y Colombia efectivamente, que se consideraron debido a la orden del ejercicio.\n",
    "\n",
    "##### Nota: Debido a que solo utilicé una celda dentro del ejercicio, se propuso correr los ejercicios por separado con el siguiente denominaciones. \n",
    "\n",
    "- Gráfica de distribucion Normal\n",
    "- Gráfica de diagrama sobre los artículos segun su año\n",
    "- Gráfica Boxplot (pud_autor)\n",
    "- Gráfica de dispersión de autores de cada país."
   ]
  },
  {
   "cell_type": "markdown",
   "metadata": {},
   "source": [
    "## Ejercicio 6 [2 puntos]\n",
    "\n",
    "Para algún gen de interés, realice lo siguiente: \n",
    "\n",
    "1. Una búsqueda en la página del [NCBI nucleotide](https://www.ncbi.nlm.nih.gov/nucleotide/).\n",
    "\n",
    "2. Descargue el ```Accession List``` de su búsqueda.\n",
    "\n",
    "3. Cargue el ```Accession List``` en este notebook y haga una descarga de la data tipo ```genbank``` utilizando los diez primeros IDs de accesión. \n",
    "\n",
    "4. Arme un árbol filogenético para los resultados del paso 3.\n",
    "\n",
    "5. Interprete el árbol del paso 4. "
   ]
  },
  {
   "cell_type": "code",
   "execution_count": 62,
   "metadata": {},
   "outputs": [
    {
     "name": "stdout",
     "output_type": "stream",
     "text": [
      "https://eutils.ncbi.nlm.nih.gov/entrez/eutils/efetch.fcgi?db=nucleotide&rettype=gb&retmode=text&id=NC_058921.1%2CMZ902035.1%2CMW599259.1%2CMW599258.1%2CMW599257.1%2CMW599256.1%2CMW598450.1%2CMW598449.1%2CMW598448.1%2CMW598447.1&tool=biopython&email=jhimy.siquihua%40est.ikiam.edu.ec\n"
     ]
    }
   ],
   "source": [
    "from Bio import Entrez\n",
    "from Bio import SeqIO\n",
    "with open (\"sequence (1).seq\") as f1: \n",
    "    ids= \"\"\n",
    "    for i in range (10):\n",
    "        ids=ids+f1.readline().rsplit()[0]+\",\"\n",
    "ids=ids[:-1]\n",
    "\n",
    "Entrez.email = \"jhimy.siquihua@est.ikiam.edu.ec\" \n",
    "with Entrez.efetch( db=\"nucleotide\", rettype=\"gb\", retmode=\"text\", id=ids \n",
    "                  ) as handle: \n",
    "    print(handle.url)\n",
    "records = SeqIO.parse(\"sequence.gb\", \"genbank\") \n",
    "count = SeqIO.write(records, \"sequence.fasta\", \"fasta\") \n",
    "\n",
    "from Bio.Align.Applications import ClustalwCommandline\n",
    "import os"
   ]
  },
  {
   "cell_type": "markdown",
   "metadata": {},
   "source": [
    "**Escriba aquí la interpretación del árbol**"
   ]
  },
  {
   "cell_type": "markdown",
   "metadata": {},
   "source": [
    "## Ejercicio 7 [1 punto]\n",
    "\n",
    "\n",
    "1. Cree en GitHub un repositorio de nombre ```GBI6_ExamenPython```. \n",
    "2. Cree un archivo ```Readme.md``` que debe tener lo siguiente: \n",
    "- Datos personales\n",
    "- Características del computador\n",
    "- Versión de Python/Anaconda y de cada uno de los módulos/paquetes y utilizados\n",
    "- Explicación de la data utilizada\n",
    "\n",
    "3. Cree un directorio de nombre ```data``` donde deben estar guardado la data utilizada \n",
    "4. Realice al menos 1 control de la versión (commits) por cada ejercicio (del 1 al 6), con un mensaje que inicie como: \n",
    "\n",
    "```sh \n",
    "Carlitos Alimaña ha realizado .....  \n",
    "```"
   ]
  }
 ],
 "metadata": {
  "kernelspec": {
   "display_name": "Python 3 (ipykernel)",
   "language": "python",
   "name": "python3"
  },
  "language_info": {
   "codemirror_mode": {
    "name": "ipython",
    "version": 3
   },
   "file_extension": ".py",
   "mimetype": "text/x-python",
   "name": "python",
   "nbconvert_exporter": "python",
   "pygments_lexer": "ipython3",
   "version": "3.8.8"
  },
  "latex_envs": {
   "LaTeX_envs_menu_present": true,
   "autoclose": false,
   "autocomplete": true,
   "bibliofile": "biblio.bib",
   "cite_by": "apalike",
   "current_citInitial": 1,
   "eqLabelWithNumbers": true,
   "eqNumInitial": 1,
   "hotkeys": {
    "equation": "Ctrl-E",
    "itemize": "Ctrl-I"
   },
   "labels_anchors": false,
   "latex_user_defs": false,
   "report_style_numbering": false,
   "user_envs_cfg": false
  },
  "toc": {
   "base_numbering": 1,
   "nav_menu": {},
   "number_sections": true,
   "sideBar": false,
   "skip_h1_title": false,
   "title_cell": "Table of Contents",
   "title_sidebar": "Contents",
   "toc_cell": false,
   "toc_position": {
    "height": "1152.67px",
    "left": "41px",
    "top": "110px",
    "width": "253.458px"
   },
   "toc_section_display": true,
   "toc_window_display": false
  },
  "varInspector": {
   "cols": {
    "lenName": 16,
    "lenType": 16,
    "lenVar": 40
   },
   "kernels_config": {
    "python": {
     "delete_cmd_postfix": "",
     "delete_cmd_prefix": "del ",
     "library": "var_list.py",
     "varRefreshCmd": "print(var_dic_list())"
    },
    "r": {
     "delete_cmd_postfix": ") ",
     "delete_cmd_prefix": "rm(",
     "library": "var_list.r",
     "varRefreshCmd": "cat(var_dic_list()) "
    }
   },
   "types_to_exclude": [
    "module",
    "function",
    "builtin_function_or_method",
    "instance",
    "_Feature"
   ],
   "window_display": false
  }
 },
 "nbformat": 4,
 "nbformat_minor": 4
}
